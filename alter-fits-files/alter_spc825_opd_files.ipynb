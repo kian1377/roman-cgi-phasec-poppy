{
 "cells": [
  {
   "cell_type": "code",
   "execution_count": 2,
   "metadata": {},
   "outputs": [
    {
     "name": "stdout",
     "output_type": "stream",
     "text": [
      "/groups/douglase/webbpsf-data/CGI/optics/F825\n",
      "/groups/douglase/webbpsf-data/CGI/OPD-spc825\n"
     ]
    }
   ],
   "source": [
    "from astropy.io import fits\n",
    "from pathlib import Path\n",
    "import glob\n",
    "\n",
    "opticsdir = Path('/groups/douglase/webbpsf-data/CGI/optics/F825'); print(opticsdir)\n",
    "opddir = Path('/groups/douglase/webbpsf-data/CGI/OPD-spc825'); print(opddir)"
   ]
  },
  {
   "cell_type": "code",
   "execution_count": 6,
   "metadata": {
    "scrolled": false
   },
   "outputs": [
    {
     "name": "stdout",
     "output_type": "stream",
     "text": [
      "/groups/douglase/webbpsf-data/CGI/OPD-spc825/wfirst_phaseb_PUPILMASK_phase_error_V1.0.fits False\n"
     ]
    }
   ],
   "source": [
    "opd_fpaths = glob.glob(str(opddir/'*'))\n",
    "for fpath in opd_fpaths:\n",
    "    if 'PUPILMASK' in fpath:\n",
    "        opd = fits.open(fpath, mode='update')\n",
    "#         opd[0].data = -opd[0].data\n",
    "        opd[0].header['SIGNFLIP'] = False\n",
    "        print(fpath, opd[0].header['SIGNFLIP'])\n",
    "        opd.close()"
   ]
  },
  {
   "cell_type": "code",
   "execution_count": 10,
   "metadata": {
    "scrolled": true
   },
   "outputs": [
    {
     "name": "stdout",
     "output_type": "stream",
     "text": [
      "/groups/douglase/webbpsf-data/CGI/optics/F730/spc730_dm2_map_for_opds.fits False\n",
      "/groups/douglase/webbpsf-data/CGI/optics/F730/spc730_dm1_map_for_opds.fits False\n"
     ]
    }
   ],
   "source": [
    "dm_fpaths = glob.glob(str(opticsdir/'*dm*'))\n",
    "for fpath in dm_fpaths:\n",
    "    dm = fits.open(fpath, mode='update')\n",
    "#     dm[0].data = -dm[0].data\n",
    "    dm[0].header['SIGNFLIP'] = False\n",
    "    print(fpath, dm[0].header['SIGNFLIP'])\n",
    "    dm.close()"
   ]
  },
  {
   "cell_type": "code",
   "execution_count": null,
   "metadata": {},
   "outputs": [],
   "source": []
  }
 ],
 "metadata": {
  "kernelspec": {
   "display_name": "astroconda",
   "language": "python",
   "name": "astroconda"
  },
  "language_info": {
   "codemirror_mode": {
    "name": "ipython",
    "version": 3
   },
   "file_extension": ".py",
   "mimetype": "text/x-python",
   "name": "python",
   "nbconvert_exporter": "python",
   "pygments_lexer": "ipython3",
   "version": "3.6.13"
  }
 },
 "nbformat": 4,
 "nbformat_minor": 2
}
