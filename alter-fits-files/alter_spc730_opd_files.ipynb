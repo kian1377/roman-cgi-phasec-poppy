{
 "cells": [
  {
   "cell_type": "code",
   "execution_count": 1,
   "metadata": {},
   "outputs": [
    {
     "name": "stdout",
     "output_type": "stream",
     "text": [
      "\\groups\\douglase\\webbpsf-data\\CGI\\optics\\F730\n",
      "\\groups\\douglase\\webbpsf-data\\CGI\\OPD-spc730\n"
     ]
    }
   ],
   "source": [
    "from astropy.io import fits\n",
    "from pathlib import Path\n",
    "import glob\n",
    "import misc\n",
    "\n",
    "opticsdir = Path('/groups/douglase/webbpsf-data/CGI/optics/F730'); print(opticsdir)\n",
    "opddir = Path('/groups/douglase/webbpsf-data/CGI/OPD-spc730'); print(opddir)"
   ]
  },
  {
   "cell_type": "code",
   "execution_count": 8,
   "metadata": {
    "scrolled": true
   },
   "outputs": [
    {
     "name": "stdout",
     "output_type": "stream",
     "text": [
      "/groups/douglase/webbpsf-data/CGI/OPD-spc730/wfirst_phaseb_M5_phase_error_V1.0.fits False (2048, 2048)\n",
      "/groups/douglase/webbpsf-data/CGI/OPD-spc730/wfirst_phaseb_M3_phase_error_V1.0.fits False (2048, 2048)\n",
      "/groups/douglase/webbpsf-data/CGI/OPD-spc730/wfirst_phaseb_OAP8_phase_error_V1.0.fits False (2048, 2048)\n",
      "/groups/douglase/webbpsf-data/CGI/OPD-spc730/wfirst_phaseb_OAP7_phase_error_V1.0.fits False (2048, 2048)\n",
      "/groups/douglase/webbpsf-data/CGI/OPD-spc730/wfirst_phaseb_FSM_phase_error_V1.0.fits False (2048, 2048)\n",
      "/groups/douglase/webbpsf-data/CGI/OPD-spc730/wfirst_phaseb_DM2_phase_error_V1.0.fits False (2048, 2048)\n",
      "/groups/douglase/webbpsf-data/CGI/OPD-spc730/wfirst_phaseb_OAP4_phase_error_V1.0.fits False (2048, 2048)\n",
      "/groups/douglase/webbpsf-data/CGI/OPD-spc730/wfirst_phaseb_PRIMARY_phase_error_V1.0.fits False (2048, 2048)\n",
      "/groups/douglase/webbpsf-data/CGI/OPD-spc730/wfirst_phaseb_DM1_phase_error_V1.0.fits False (2048, 2048)\n",
      "/groups/douglase/webbpsf-data/CGI/OPD-spc730/wfirst_phaseb_SECONDARY_phase_error_V1.0.fits False (2048, 2048)\n",
      "/groups/douglase/webbpsf-data/CGI/OPD-spc730/wfirst_phaseb_OAP5_phase_error_V1.0.fits False (2048, 2048)\n",
      "/groups/douglase/webbpsf-data/CGI/OPD-spc730/wfirst_phaseb_OAP3_phase_error_V1.0.fits False (2048, 2048)\n",
      "/groups/douglase/webbpsf-data/CGI/OPD-spc730/wfirst_phaseb_OAP1_phase_error_V1.0.fits False (2048, 2048)\n",
      "/groups/douglase/webbpsf-data/CGI/OPD-spc730/wfirst_phaseb_M4_phase_error_V1.0.fits False (2048, 2048)\n",
      "/groups/douglase/webbpsf-data/CGI/OPD-spc730/wfirst_phaseb_FOCM_phase_error_V1.0.fits False (2048, 2048)\n",
      "/groups/douglase/webbpsf-data/CGI/OPD-spc730/wfirst_phaseb_FOLD1_phase_error_V1.0.fits False (2048, 2048)\n",
      "/groups/douglase/webbpsf-data/CGI/OPD-spc730/wfirst_phaseb_GROUND_TO_ORBIT_4.2X_phase_error_V1.0.fits False (2048, 2048)\n",
      "/groups/douglase/webbpsf-data/CGI/OPD-spc730/wfirst_phaseb_LENS_phase_error_V1.0.fits False (2048, 2048)\n",
      "/groups/douglase/webbpsf-data/CGI/OPD-spc730/wfirst_phaseb_OAP6_phase_error_V1.0.fits False (2048, 2048)\n",
      "/groups/douglase/webbpsf-data/CGI/OPD-spc730/wfirst_phaseb_OAP2_phase_error_V1.0.fits False (2048, 2048)\n",
      "/groups/douglase/webbpsf-data/CGI/OPD-spc730/wfirst_phaseb_FOLD4_phase_error_V1.1.fits False (2048, 2048)\n",
      "/groups/douglase/webbpsf-data/CGI/OPD-spc730/wfirst_phaseb_FOLD3_phase_error_V1.0.fits False (2048, 2048)\n",
      "/groups/douglase/webbpsf-data/CGI/OPD-spc730/wfirst_phaseb_FILTER_phase_error_V1.0.fits False (2048, 2048)\n",
      "/groups/douglase/webbpsf-data/CGI/OPD-spc730/wfirst_phaseb_PUPILMASK_phase_error_V1.0.fits False (2048, 2048)\n",
      "/groups/douglase/webbpsf-data/CGI/OPD-spc730/wfirst_phaseb_FOLD2_phase_error_V1.0.fits False (2048, 2048)\n"
     ]
    }
   ],
   "source": [
    "opd_fpaths = glob.glob(str(opddir/'*'))\n",
    "for fpath in opd_fpaths:\n",
    "    opd = fits.open(fpath, mode='update')\n",
    "#     opd[0].data = -opd[0].data\n",
    "#     opd[0].header['SIGNFLIP'] = False\n",
    "#     opd[0].data = misc.pad_or_crop(opd[0].data, 1024)\n",
    "    print(fpath, opd[0].header['SIGNFLIP'], opd[0].data.shape)\n",
    "    opd.close()"
   ]
  },
  {
   "cell_type": "code",
   "execution_count": 10,
   "metadata": {
    "scrolled": true
   },
   "outputs": [
    {
     "name": "stdout",
     "output_type": "stream",
     "text": [
      "/groups/douglase/webbpsf-data/CGI/optics/F730/spc730_dm2_map_for_opds.fits False\n",
      "/groups/douglase/webbpsf-data/CGI/optics/F730/spc730_dm1_map_for_opds.fits False\n"
     ]
    }
   ],
   "source": [
    "dm_fpaths = glob.glob(str(opticsdir/'*dm*'))\n",
    "for fpath in dm_fpaths:\n",
    "    dm = fits.open(fpath, mode='update')\n",
    "#     dm[0].data = -dm[0].data\n",
    "    dm[0].header['SIGNFLIP'] = False\n",
    "    print(fpath, dm[0].header['SIGNFLIP'])\n",
    "    dm.close()"
   ]
  },
  {
   "cell_type": "code",
   "execution_count": null,
   "metadata": {},
   "outputs": [],
   "source": []
  }
 ],
 "metadata": {
  "kernelspec": {
   "display_name": "Python 3",
   "language": "python",
   "name": "python3"
  },
  "language_info": {
   "codemirror_mode": {
    "name": "ipython",
    "version": 3
   },
   "file_extension": ".py",
   "mimetype": "text/x-python",
   "name": "python",
   "nbconvert_exporter": "python",
   "pygments_lexer": "ipython3",
   "version": "3.9.5"
  }
 },
 "nbformat": 4,
 "nbformat_minor": 2
}
